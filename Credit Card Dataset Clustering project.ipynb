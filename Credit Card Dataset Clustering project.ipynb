{
 "cells": [
  {
   "cell_type": "code",
   "execution_count": null,
   "id": "5421c67c",
   "metadata": {},
   "outputs": [],
   "source": [



